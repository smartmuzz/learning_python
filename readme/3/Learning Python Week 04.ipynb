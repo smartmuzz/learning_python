{
 "cells": [
  {
   "cell_type": "code",
   "execution_count": null,
   "metadata": {},
   "outputs": [],
   "source": [
    "print(\"Hello World\")"
   ]
  },
  {
   "cell_type": "code",
   "execution_count": null,
   "metadata": {},
   "outputs": [],
   "source": [
    "print(45) # number (integer)"
   ]
  },
  {
   "cell_type": "code",
   "execution_count": null,
   "metadata": {},
   "outputs": [],
   "source": [
    "print(45.6) #number (float)"
   ]
  },
  {
   "cell_type": "code",
   "execution_count": null,
   "metadata": {},
   "outputs": [],
   "source": [
    "print(\"ahmed's bag\")"
   ]
  },
  {
   "cell_type": "code",
   "execution_count": null,
   "metadata": {},
   "outputs": [],
   "source": [
    "type(\"123rh\")"
   ]
  },
  {
   "cell_type": "code",
   "execution_count": null,
   "metadata": {},
   "outputs": [],
   "source": [
    "print(\"Hi\",123+6,45.889)"
   ]
  },
  {
   "cell_type": "code",
   "execution_count": null,
   "metadata": {},
   "outputs": [],
   "source": [
    "print(12.3,45,6.79,sep=\"***\")"
   ]
  },
  {
   "cell_type": "code",
   "execution_count": null,
   "metadata": {},
   "outputs": [],
   "source": [
    "print(\"Hello PIAIC\", end='\\t')\n",
    "print(\"Hi\", end='\\t')\n",
    "print(\"None\", end='\\t')"
   ]
  },
  {
   "cell_type": "code",
   "execution_count": null,
   "metadata": {},
   "outputs": [],
   "source": [
    "print(str(2)+\" hELLO\") # TYPE CASTING"
   ]
  },
  {
   "cell_type": "code",
   "execution_count": null,
   "metadata": {},
   "outputs": [],
   "source": [
    "name= \"Muzzammil\"\n",
    "age= \"19\"\n",
    "print(\"my name is \"+ name+ \" and my age is \" + age)"
   ]
  },
  {
   "cell_type": "code",
   "execution_count": null,
   "metadata": {},
   "outputs": [],
   "source": [
    "print(\"my name is {1} and my age is {0}.\".format(name,age))"
   ]
  },
  {
   "cell_type": "code",
   "execution_count": null,
   "metadata": {},
   "outputs": [],
   "source": [
    "print(f\"my name is {name} and my age is {age}.\")"
   ]
  },
  {
   "cell_type": "code",
   "execution_count": null,
   "metadata": {},
   "outputs": [],
   "source": [
    "a= false"
   ]
  },
  {
   "cell_type": "code",
   "execution_count": null,
   "metadata": {},
   "outputs": [],
   "source": [
    "type(a)"
   ]
  },
  {
   "cell_type": "code",
   "execution_count": null,
   "metadata": {},
   "outputs": [],
   "source": [
    "print(5*\"Hello \"*4)"
   ]
  },
  {
   "cell_type": "code",
   "execution_count": null,
   "metadata": {},
   "outputs": [],
   "source": [
    "a=10\n",
    "b=4900\n",
    "c=a/b\n",
    "print(c)\n",
    "round(c,3)"
   ]
  },
  {
   "cell_type": "code",
   "execution_count": null,
   "metadata": {},
   "outputs": [],
   "source": [
    "a=False\n",
    "type(a)\n",
    "\n"
   ]
  },
  {
   "cell_type": "code",
   "execution_count": null,
   "metadata": {},
   "outputs": [],
   "source": [
    "# case change lower == small\n",
    "user_cnic = (input(\"Do you have CNIC? \").lower())\n",
    "if user_cnic == 'yes' or 'yeah':\n",
    "    print(\"He has valid CNIC\")\n",
    "    voter_list = (input(\"Is your name in the list?\").lower())\n",
    "    if voter_list == 'yes':\n",
    "        print(\"You are a registered voter\")\n",
    "        print(\"You can cast vote\")\n",
    "    else:\n",
    "        print(\"Sorry! You cannot cast Vote!\")\n",
    "else:\n",
    "    print(\"You cannot cast Vote!\")"
   ]
  },
  {
   "cell_type": "code",
   "execution_count": null,
   "metadata": {},
   "outputs": [],
   "source": [
    "age = (input(\"Is your age above 18? \").lower())\n",
    "if age == 'yes':\n",
    "    print(\"Welcome!\")\n",
    "    ticket = (input(\"Do you have the Ticket?\").lower())\n",
    "    if ticket == 'yes':\n",
    "        print(\"Enjoy the show sir!\")\n",
    "    else: \n",
    "        print(\"Sorry!\")\n",
    "else:\n",
    "    print(\"Sorry!\")\n",
    "\n",
    "    \n",
    "    "
   ]
  },
  {
   "cell_type": "code",
   "execution_count": 2,
   "metadata": {},
   "outputs": [
    {
     "name": "stdout",
     "output_type": "stream",
     "text": [
      "What's your age? 19\n",
      "Welcome!\n",
      "Do you have the Ticket?yes\n",
      "Enjoy the show sir!\n"
     ]
    }
   ],
   "source": [
    "age = int(input(\"What's your age? \"))\n",
    "if age >= 18:\n",
    "    print(\"Welcome!\")\n",
    "    ticket = (input(\"Do you have the Ticket?\").lower())\n",
    "    if ticket == 'yes':\n",
    "        print(\"Enjoy the show sir!\")\n",
    "    else: \n",
    "        print(\"Sorry!\")\n",
    "else:\n",
    "    print(\"Sorry!\")"
   ]
  },
  {
   "cell_type": "code",
   "execution_count": 8,
   "metadata": {},
   "outputs": [
    {
     "name": "stdout",
     "output_type": "stream",
     "text": [
      "Enter a number!0\n",
      "Enter another number!0\n",
      "0 is equal to 0.\n"
     ]
    }
   ],
   "source": [
    "num1 = int(input(\"Enter a number!\"))\n",
    "num2 = int(input(\"Enter another number!\"))\n",
    "if num1>num2:\n",
    "    print(f\"{num1} is greater than {num2}.\")\n",
    "elif num1==num2:\n",
    "        print(f\"{num1} is equal to {num2}.\")\n",
    "elif num1<num2:\n",
    "        print(f\"{num1} is less than {num2}.\")\n",
    "    \n",
    "    "
   ]
  },
  {
   "cell_type": "code",
   "execution_count": 3,
   "metadata": {},
   "outputs": [
    {
     "name": "stdout",
     "output_type": "stream",
     "text": [
      "Do you have CNIC? yes\n",
      "Is your name in the list?yes\n",
      "You can cast vote\n"
     ]
    }
   ],
   "source": [
    "user_cnic = (input(\"Do you have CNIC? \").lower())\n",
    "voter_list = (input(\"Is your name in the list?\").lower())\n",
    "if user_cnic == 'yes' and voter_list == 'yes':\n",
    "    print(\"You can cast vote\")\n",
    "else:\n",
    "    print(\"You cannot cast Vote!\")\n",
    "\n",
    "\n",
    "# mawdxiwadmn\n",
    "# bczdcbnjzdncjnz\n",
    "#xsnknSn\n",
    "# ncsjnlsNZcJSNj\n",
    "# jscnZJNjZS\n",
    "# kcmKLncjznd"
   ]
  },
  {
   "cell_type": "code",
   "execution_count": 8,
   "metadata": {},
   "outputs": [
    {
     "name": "stdout",
     "output_type": "stream",
     "text": [
      "Enter a number!9\n",
      "Enter another number!10\n",
      "9 is less than 10.\n"
     ]
    }
   ],
   "source": [
    "num1 = int(input(\"Enter a number!\"))\n",
    "num2 = int(input(\"Enter another number!\"))\n",
    "if num1>num2:\n",
    "    print(f\"{num1} is greater than {num2}.\") \n",
    "elif num1==num2:    \n",
    "    print(f\"{num1} is equal to {num2}.\") \n",
    "elif num1<num2:\n",
    "    print(f\"{num1} is less than {num2}.\")"
   ]
  },
  {
   "cell_type": "code",
   "execution_count": null,
   "metadata": {},
   "outputs": [],
   "source": []
  }
 ],
 "metadata": {
  "kernelspec": {
   "display_name": "Python 3",
   "language": "python",
   "name": "python3"
  },
  "language_info": {
   "codemirror_mode": {
    "name": "ipython",
    "version": 3
   },
   "file_extension": ".py",
   "mimetype": "text/x-python",
   "name": "python",
   "nbconvert_exporter": "python",
   "pygments_lexer": "ipython3",
   "version": "3.7.3"
  }
 },
 "nbformat": 4,
 "nbformat_minor": 2
}
